{
 "cells": [
  {
   "cell_type": "code",
   "execution_count": 1,
   "metadata": {},
   "outputs": [
    {
     "name": "stdout",
     "output_type": "stream",
     "text": [
      "Total Stellar Mass: 24.4 Solar Masses\n"
     ]
    }
   ],
   "source": [
    "import numpy as np\n",
    "from scipy.integrate import quad\n",
    "\n",
    "rho_c = 50000 #kg*m^-3\n",
    "R = 3 * (6.96*10**8) #m\n",
    "R_c = R/10\n",
    "\n",
    "def integral(r):\n",
    "    return 4*np.pi * r**2 * rho_c / (1 + (r/ R_c)**2)\n",
    "\n",
    "M, abserr = quad(integral, 0, R)\n",
    "M_sol = M/(2*10**30)\n",
    "\n",
    "print(f\"Total Stellar Mass: {M_sol:.1f} Solar Masses\")\n"
   ]
  }
 ],
 "metadata": {
  "kernelspec": {
   "display_name": "Python 3",
   "language": "python",
   "name": "python3"
  },
  "language_info": {
   "codemirror_mode": {
    "name": "ipython",
    "version": 3
   },
   "file_extension": ".py",
   "mimetype": "text/x-python",
   "name": "python",
   "nbconvert_exporter": "python",
   "pygments_lexer": "ipython3",
   "version": "3.11.4"
  }
 },
 "nbformat": 4,
 "nbformat_minor": 2
}
